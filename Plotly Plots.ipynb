{
 "metadata": {
  "language_info": {
   "codemirror_mode": {
    "name": "ipython",
    "version": 3
   },
   "file_extension": ".py",
   "mimetype": "text/x-python",
   "name": "python",
   "nbconvert_exporter": "python",
   "pygments_lexer": "ipython3",
   "version": 3
  },
  "orig_nbformat": 2
 },
 "nbformat": 4,
 "nbformat_minor": 2,
 "cells": [
  {
   "cell_type": "code",
   "execution_count": null,
   "metadata": {},
   "outputs": [],
   "source": [
    "import plotly.express as px\n",
    "from data import countries_df\n",
    "\n",
    "fig = px.scatter_geo(countries_df,locations=\"Country_Region\",locationmode=\"country names\", \n",
    "                     color=\"Confirmed\",hover_name=\"Country_Region\",\n",
    "                     size=\"Confirmed\",size_max=40,\n",
    "                     template=\"plotly_dark\",\n",
    "                     hover_data={\n",
    "                      \"Confirmed\":\":,2f\",\"Recovered\":\":,2f\",\"Deaths\":\":,2f\",\"Country_Region\":False\n",
    "                     })\n",
    "fig.show()"
   ]
  }
 ]
}